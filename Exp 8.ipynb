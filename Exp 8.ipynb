{
 "cells": [
  {
   "cell_type": "code",
   "execution_count": null,
   "metadata": {
    "collapsed": true
   },
   "outputs": [],
   "source": [
    "%load_ext autoreload\n",
    "%autoreload 2\n",
    "from brian2 import *\n",
    "from multiprocessing import Pool\n",
    "import numpy as np\n",
    "import experiment_7_full as ex7\n",
    "import power_spectral_density as psd"
   ]
  },
  {
   "cell_type": "code",
   "execution_count": null,
   "metadata": {
    "collapsed": true
   },
   "outputs": [],
   "source": [
    "plt.rc('axes', titlesize=20)\n",
    "plt.rc('axes', labelsize=18)\n",
    "plt.rc('xtick', labelsize=16)\n",
    "plt.rc('ytick', labelsize=16)\n",
    "plt.rc('lines', linewidth=3)\n",
    "plt.rc('legend', fontsize=14)"
   ]
  },
  {
   "cell_type": "code",
   "execution_count": null,
   "metadata": {
    "collapsed": true
   },
   "outputs": [],
   "source": [
    "def call_ex7_d(d):\n",
    "    return ex7.run_experiment(n, a, b, c, d)"
   ]
  },
  {
   "cell_type": "code",
   "execution_count": null,
   "metadata": {
    "collapsed": true
   },
   "outputs": [],
   "source": [
    "\n",
    "n = 1000\n",
    "a, b, c = 400, 30,8 \n",
    "p = Pool(6)\n",
    "#func = lambda d: ex7.run_experiment(n, a, b, c, d)\n",
    "args_d = np.linspace(0, 4, 6)\n",
    "results_d = p.map(call_ex7_d, args_d)"
   ]
  },
  {
   "cell_type": "code",
   "execution_count": null,
   "metadata": {
    "collapsed": true
   },
   "outputs": [],
   "source": [
    "f, ax = plt.subplots(1, 1, figsize=(15,6))\n",
    "dt, shift = 200, 10\n",
    "for i, data in enumerate(results_d):\n",
    "    N, X = data['N_EX'], data['X']\n",
    "    plot_ma(N, X, dt, shift, ax=ax, color=\"C{}\".format(i),\n",
    "            label=\"IN_IN_FACTOR: {:.2f}\".format(args_d[i]))\n",
    "ax.legend()\n",
    "ax.set_title('Varying the IN_IN_FACTOR. Default values are 400, 30, 8, *')\n",
    "plt.savefig('figures/exp_7_high_ininfactor.png')\n",
    "plt.show()"
   ]
  },
  {
   "cell_type": "code",
   "execution_count": null,
   "metadata": {
    "collapsed": true
   },
   "outputs": [],
   "source": []
  },
  {
   "cell_type": "code",
   "execution_count": null,
   "metadata": {
    "collapsed": true
   },
   "outputs": [],
   "source": [
    "a, b, c, d = 400, 15, 8, 2\n",
    "data = ex7.run_experiment(1000, a, b, c, d)"
   ]
  },
  {
   "cell_type": "code",
   "execution_count": null,
   "metadata": {
    "collapsed": true
   },
   "outputs": [],
   "source": [
    "# MA -> yaxis show percentage of all neurons spiking per ms\n",
    "N, N_EX,X, Y, X2, Y2 = [data2[x] for x in ['N', 'N_EX', 'X', 'Y', 'X2', 'Y2']]\n",
    "N_IN = N - N_EX\n",
    "print(\"{:,} exc spikes, {:,} inh spikes\".format(len(X), len(X2)))\n",
    "\n",
    "end = 4000\n",
    "mask = np.logical_and.reduce((X >= 1000, X < end))\n",
    "mask2 = np.logical_and.reduce((X2 >= 1000, X2 < end))\n",
    "\n",
    "fig, axarr = plt.subplots(3, figsize=(15,15))\n",
    "axarr[0].plot(X[mask], Y[mask], '.', color='C0', label='Excitatory Population')\n",
    "axarr[0].plot(X2[mask2], Y2[mask2]+N_EX, '.', color='C1', label='Inhibitory Population')\n",
    "axarr[0].set_ylabel('Neuron index')\n",
    "axarr[0].set_xlabel('Simulation Time (ms)')\n",
    "axarr[0].set_title('Raster plot of spikes')\n",
    "axarr[0].legend(loc=3)\n",
    "\n",
    "dt, shift = 5, 5\n",
    "plot_ma(N_EX, X[mask], dt, shift, ax=axarr[1] , label='Excitatory Population')\n",
    "plot_ma(N_IN, X2[mask2], dt, shift, ax=axarr[1], label='Inhibitory Population')\n",
    "axarr[1].set_xlabel('Simulation Time (ms)')\n",
    "axarr[1].legend()\n",
    "\n",
    "#fig, axarr = plt.subplots(2, sharex=True, figsize=(15,6))\n",
    "plot_spectrum(X, dt, shift, ax=axarr[2], label='Excitatory Population')\n",
    "plot_spectrum(X2, dt, shift, ax=axarr[2], label='Inhibitory Population')\n",
    "axarr[2].set_xticks(np.arange(0, 100, 5))\n",
    "axarr[2].legend()\n",
    "\n",
    "plt.tight_layout()\n",
    "plt.savefig('figures/exp_7_full_dynamics_2.png')\n",
    "plt.show()"
   ]
  }
 ],
 "metadata": {
  "kernelspec": {
   "display_name": "Python 2",
   "language": "python",
   "name": "python2"
  },
  "language_info": {
   "codemirror_mode": {
    "name": "ipython",
    "version": 2
   },
   "file_extension": ".py",
   "mimetype": "text/x-python",
   "name": "python",
   "nbconvert_exporter": "python",
   "pygments_lexer": "ipython2",
   "version": "2.7.13"
  }
 },
 "nbformat": 4,
 "nbformat_minor": 2
}
